{
 "cells": [
  {
   "cell_type": "code",
   "execution_count": 1,
   "metadata": {},
   "outputs": [],
   "source": [
    "# Import all necessary libraries\n",
    "import pandas as pd\n",
    "import numpy as np\n",
    "import psycopg2 # needed to get database exception errors when uploading dataframe\n",
    "import requests # package for getting data from the web\n",
    "from zipfile import * # package for unzipping zip files\n"
   ]
  },
  {
   "cell_type": "code",
   "execution_count": 2,
   "metadata": {},
   "outputs": [],
   "source": [
    "\n",
    "from sql_functions import get_engine"
   ]
  },
  {
   "cell_type": "code",
   "execution_count": 3,
   "metadata": {},
   "outputs": [],
   "source": [
    "# Specifies path for saving file\n",
    "path ='data/' \n",
    "# Create the data folder\n",
    "!mkdir {path}"
   ]
  },
  {
   "cell_type": "code",
   "execution_count": 4,
   "metadata": {},
   "outputs": [],
   "source": [
    "def download_data(year, month):\n",
    "    # Get the file from the website https://transtats.bts.gov\n",
    "    zip_file = f'On_Time_Reporting_Carrier_On_Time_Performance_1987_present_{year}_{month}.zip'\n",
    "    url = (f'https://transtats.bts.gov/PREZIP/{zip_file}')\n",
    "    # Download the database\n",
    "    r = requests.get(f'{url}', verify=False)\n",
    "    # Save database to local file storage\n",
    "    with open(path+zip_file, 'wb') as f:\n",
    "        f.write(r.content)\n",
    "        print(f'--> zip_file with name: {zip_file} downloaded succesfully.' )\n",
    "        # function to extract the csv files inside the zip files\n",
    "\n",
    "def extract_zip(year, month):\n",
    "    # Get the file from the website https://transtats.bts.gov\n",
    "    zip_file = f'On_Time_Reporting_Carrier_On_Time_Performance_1987_present_{year}_{month}.zip'\n",
    "    with ZipFile(path+zip_file, 'r') as zip_ref:\n",
    "        zip_ref.extractall(path)\n",
    "        csv_file =  zip_ref.namelist()[0]\n",
    "        print(f'--> zip_file was succesfully extracted to: {csv_file}.' )\n",
    "    "
   ]
  },
  {
   "cell_type": "code",
   "execution_count": 7,
   "metadata": {},
   "outputs": [
    {
     "name": "stderr",
     "output_type": "stream",
     "text": [
      "/opt/homebrew/Caskroom/miniconda/base/envs/nf_sql/lib/python3.9/site-packages/urllib3/connectionpool.py:1099: InsecureRequestWarning: Unverified HTTPS request is being made to host 'transtats.bts.gov'. Adding certificate verification is strongly advised. See: https://urllib3.readthedocs.io/en/latest/advanced-usage.html#tls-warnings\n",
      "  warnings.warn(\n"
     ]
    },
    {
     "name": "stdout",
     "output_type": "stream",
     "text": [
      "--> zip_file with name: On_Time_Reporting_Carrier_On_Time_Performance_1987_present_2020_8.zip downloaded succesfully.\n"
     ]
    }
   ],
   "source": [
    "download_data('2020',8)"
   ]
  },
  {
   "cell_type": "code",
   "execution_count": 8,
   "metadata": {},
   "outputs": [
    {
     "name": "stdout",
     "output_type": "stream",
     "text": [
      "--> zip_file was succesfully extracted to: On_Time_Reporting_Carrier_On_Time_Performance_(1987_present)_2020_8.csv.\n"
     ]
    }
   ],
   "source": [
    "extract_zip('2020',8)"
   ]
  },
  {
   "cell_type": "code",
   "execution_count": 10,
   "metadata": {},
   "outputs": [],
   "source": [
    "flights = pd.read_csv(path+'Flight_Table_August_2020.csv', low_memory=False)"
   ]
  },
  {
   "cell_type": "code",
   "execution_count": 11,
   "metadata": {},
   "outputs": [],
   "source": [
    "flights_clean = flights.copy()"
   ]
  },
  {
   "cell_type": "code",
   "execution_count": 12,
   "metadata": {},
   "outputs": [
    {
     "data": {
      "text/plain": [
       "Index(['Year', 'Quarter', 'Month', 'DayofMonth', 'DayOfWeek', 'FlightDate',\n",
       "       'Reporting_Airline', 'DOT_ID_Reporting_Airline',\n",
       "       'IATA_CODE_Reporting_Airline', 'Tail_Number',\n",
       "       ...\n",
       "       'Div4TailNum', 'Div5Airport', 'Div5AirportID', 'Div5AirportSeqID',\n",
       "       'Div5WheelsOn', 'Div5TotalGTime', 'Div5LongestGTime', 'Div5WheelsOff',\n",
       "       'Div5TailNum', 'Unnamed: 109'],\n",
       "      dtype='object', length=110)"
      ]
     },
     "execution_count": 12,
     "metadata": {},
     "output_type": "execute_result"
    }
   ],
   "source": [
    "flights_clean.columns"
   ]
  },
  {
   "cell_type": "code",
   "execution_count": null,
   "metadata": {},
   "outputs": [],
   "source": [
    "\"Year\",\"Month\",\"DayofMonth\",\"FlightDate\",\"Reporting_Airline\",\"DOT_ID_Reporting_Airline\",\"IATA_CODE_Reporting_Airline\",\"Tail_Number\",\"Flight_Number_Reporting_Airline\",\"OriginAirportID\",\"OriginAirportSeqID\",\"OriginCityMarketID\",\"Origin\",\"OriginCityName\",\"OriginState\",\"OriginStateFips\",\"OriginStateName\",\"OriginWac\",\"DestAirportID\",\"DestAirportSeqID\",\"DestCityMarketID\",\"Dest\",\"DestCityName\",\"DestState\",\"DestStateFips\",\"DestStateName\",\"DestWac\",\"CRSDepTime\",\"DepTime\",\"DepDelay\",\"DepDelayMinutes\",\"DepDel15\",\"DepartureDelayGroups\",\"DepTimeBlk\",\"TaxiOut\",\"WheelsOff\",\"WheelsOn\",\"TaxiIn\",\"CRSArrTime\",\"ArrTime\",\"ArrDelay\",\"ArrDelayMinutes\",\"ArrDel15\",\"ArrivalDelayGroups\",\"ArrTimeBlk\",\"Cancelled\",\"CancellationCode\",\"Diverted\",\"CRSElapsedTime\",\"ActualElapsedTime\",\"AirTime\",\"Flights\",\"Distance\",\"DistanceGroup\",\"CarrierDelay\",\"WeatherDelay\",\"NASDelay\",\"SecurityDelay\",\"LateAircraftDelay\",\"FirstDepTime\",\"TotalAddGTime\",\"LongestAddGTime\",\"DivAirportLandings\",\"DivReachedDest\",\"DivActualElapsedTime\",\"DivArrDelay\",\"DivDistance\",\"Div1Airport\",\"Div1AirportID\",\"Div1AirportSeqID\",\"Div1WheelsOn\",\"Div1TotalGTime\",\"Div1LongestGTime\",\"Div1WheelsOff\",\"Div1TailNum\",\"Div2Airport\",\"Div2AirportID\",\"Div2AirportSeqID\",\"Div2WheelsOn\",\"Div2TotalGTime\",\"Div2LongestGTime\",\"Div2WheelsOff\",\"Div2TailNum\",\"Div3Airport\",\"Div3AirportID\",\"Div3AirportSeqID\",\"Div3WheelsOn\",\"Div3TotalGTime\",\"Div3LongestGTime\",\"Div3WheelsOff\",\"Div3TailNum\",\"Div4Airport\",\"Div4AirportID\",\"Div4AirportSeqID\",\"Div4WheelsOn\",\"Div4TotalGTime\",\"Div4LongestGTime\",\"Div4WheelsOff\",\"Div4TailNum\",\"Div5Airport\",\"Div5AirportID\",\"Div5AirportSeqID\",\"Div5WheelsOn\",\"Div5TotalGTime\",\"Div5LongestGTime\",\"Div5WheelsOff\",\"Div5TailNum\","
   ]
  },
  {
   "cell_type": "code",
   "execution_count": 15,
   "metadata": {},
   "outputs": [
    {
     "data": {
      "text/plain": [
       "Year                1\n",
       "Div1Airport         1\n",
       "Div2WheelsOn        1\n",
       "Div2AirportSeqID    1\n",
       "Div2AirportID       1\n",
       "                   ..\n",
       "DepDel15            1\n",
       "DepDelayMinutes     1\n",
       "DepDelay            1\n",
       "DepTime             1\n",
       "Unnamed: 109        1\n",
       "Name: count, Length: 110, dtype: int64"
      ]
     },
     "execution_count": 15,
     "metadata": {},
     "output_type": "execute_result"
    }
   ],
   "source": [
    "flights.columns.value_counts()"
   ]
  },
  {
   "cell_type": "code",
   "execution_count": 62,
   "metadata": {},
   "outputs": [
    {
     "data": {
      "text/html": [
       "<div>\n",
       "<style scoped>\n",
       "    .dataframe tbody tr th:only-of-type {\n",
       "        vertical-align: middle;\n",
       "    }\n",
       "\n",
       "    .dataframe tbody tr th {\n",
       "        vertical-align: top;\n",
       "    }\n",
       "\n",
       "    .dataframe thead th {\n",
       "        text-align: right;\n",
       "    }\n",
       "</style>\n",
       "<table border=\"1\" class=\"dataframe\">\n",
       "  <thead>\n",
       "    <tr style=\"text-align: right;\">\n",
       "      <th></th>\n",
       "      <th>DestAirportID</th>\n",
       "      <th>DestAirportSeqID</th>\n",
       "      <th>DestCityMarketID</th>\n",
       "      <th>Dest</th>\n",
       "      <th>DestCityName</th>\n",
       "      <th>DestState</th>\n",
       "      <th>DestStateFips</th>\n",
       "      <th>DestStateName</th>\n",
       "      <th>DestWac</th>\n",
       "      <th>CRSDepTime</th>\n",
       "      <th>DepTime</th>\n",
       "      <th>DepDelay</th>\n",
       "      <th>DepDelayMinutes</th>\n",
       "      <th>DepDel15</th>\n",
       "      <th>DepartureDelayGroups</th>\n",
       "      <th>DepTimeBlk</th>\n",
       "      <th>TaxiOut</th>\n",
       "      <th>WheelsOff</th>\n",
       "      <th>WheelsOn</th>\n",
       "      <th>TaxiIn</th>\n",
       "    </tr>\n",
       "  </thead>\n",
       "  <tbody>\n",
       "    <tr>\n",
       "      <th>0</th>\n",
       "      <td>10397</td>\n",
       "      <td>1039707</td>\n",
       "      <td>30397</td>\n",
       "      <td>ATL</td>\n",
       "      <td>Atlanta, GA</td>\n",
       "      <td>GA</td>\n",
       "      <td>13</td>\n",
       "      <td>Georgia</td>\n",
       "      <td>34</td>\n",
       "      <td>753</td>\n",
       "      <td>749.0</td>\n",
       "      <td>-4.0</td>\n",
       "      <td>0.0</td>\n",
       "      <td>0.0</td>\n",
       "      <td>-1.0</td>\n",
       "      <td>0700-0759</td>\n",
       "      <td>16.0</td>\n",
       "      <td>805.0</td>\n",
       "      <td>842.0</td>\n",
       "      <td>7.0</td>\n",
       "    </tr>\n",
       "    <tr>\n",
       "      <th>1</th>\n",
       "      <td>11423</td>\n",
       "      <td>1142307</td>\n",
       "      <td>31423</td>\n",
       "      <td>DSM</td>\n",
       "      <td>Des Moines, IA</td>\n",
       "      <td>IA</td>\n",
       "      <td>19</td>\n",
       "      <td>Iowa</td>\n",
       "      <td>61</td>\n",
       "      <td>1424</td>\n",
       "      <td>1433.0</td>\n",
       "      <td>9.0</td>\n",
       "      <td>9.0</td>\n",
       "      <td>0.0</td>\n",
       "      <td>0.0</td>\n",
       "      <td>1400-1459</td>\n",
       "      <td>14.0</td>\n",
       "      <td>1447.0</td>\n",
       "      <td>1503.0</td>\n",
       "      <td>3.0</td>\n",
       "    </tr>\n",
       "  </tbody>\n",
       "</table>\n",
       "</div>"
      ],
      "text/plain": [
       "   DestAirportID  DestAirportSeqID  DestCityMarketID Dest    DestCityName  \\\n",
       "0          10397           1039707             30397  ATL     Atlanta, GA   \n",
       "1          11423           1142307             31423  DSM  Des Moines, IA   \n",
       "\n",
       "  DestState  DestStateFips DestStateName  DestWac  CRSDepTime  DepTime  \\\n",
       "0        GA             13       Georgia       34         753    749.0   \n",
       "1        IA             19          Iowa       61        1424   1433.0   \n",
       "\n",
       "   DepDelay  DepDelayMinutes  DepDel15  DepartureDelayGroups DepTimeBlk  \\\n",
       "0      -4.0              0.0       0.0                  -1.0  0700-0759   \n",
       "1       9.0              9.0       0.0                   0.0  1400-1459   \n",
       "\n",
       "   TaxiOut  WheelsOff  WheelsOn  TaxiIn  \n",
       "0     16.0      805.0     842.0     7.0  \n",
       "1     14.0     1447.0    1503.0     3.0  "
      ]
     },
     "execution_count": 62,
     "metadata": {},
     "output_type": "execute_result"
    }
   ],
   "source": [
    "flights_clean.iloc[:2,20:40]"
   ]
  },
  {
   "cell_type": "code",
   "execution_count": 64,
   "metadata": {},
   "outputs": [
    {
     "data": {
      "text/plain": [
       "40            CRSArrTime\n",
       "41               ArrTime\n",
       "42              ArrDelay\n",
       "43       ArrDelayMinutes\n",
       "44              ArrDel15\n",
       "45    ArrivalDelayGroups\n",
       "46            ArrTimeBlk\n",
       "47             Cancelled\n",
       "48      CancellationCode\n",
       "49              Diverted\n",
       "dtype: object"
      ]
     },
     "execution_count": 64,
     "metadata": {},
     "output_type": "execute_result"
    }
   ],
   "source": [
    "column_indexes_series = pd.Series(flights_clean.columns)\n",
    "column_indexes_series[40:50]"
   ]
  },
  {
   "cell_type": "code",
   "execution_count": 65,
   "metadata": {},
   "outputs": [
    {
     "data": {
      "text/html": [
       "<div>\n",
       "<style scoped>\n",
       "    .dataframe tbody tr th:only-of-type {\n",
       "        vertical-align: middle;\n",
       "    }\n",
       "\n",
       "    .dataframe tbody tr th {\n",
       "        vertical-align: top;\n",
       "    }\n",
       "\n",
       "    .dataframe thead th {\n",
       "        text-align: right;\n",
       "    }\n",
       "</style>\n",
       "<table border=\"1\" class=\"dataframe\">\n",
       "  <thead>\n",
       "    <tr style=\"text-align: right;\">\n",
       "      <th></th>\n",
       "      <th>flightdate</th>\n",
       "      <th>tail_number</th>\n",
       "      <th>origin</th>\n",
       "      <th>origincityname</th>\n",
       "      <th>originstatename</th>\n",
       "      <th>dest</th>\n",
       "      <th>destcityname</th>\n",
       "      <th>deststatename</th>\n",
       "      <th>crsdeptime</th>\n",
       "      <th>deptime</th>\n",
       "      <th>...</th>\n",
       "      <th>actualelapsedtime</th>\n",
       "      <th>airtime</th>\n",
       "      <th>distance</th>\n",
       "      <th>carrierdelay</th>\n",
       "      <th>weatherdelay</th>\n",
       "      <th>nasdelay</th>\n",
       "      <th>securitydelay</th>\n",
       "      <th>lateaircraftdelay</th>\n",
       "      <th>reporting_airline</th>\n",
       "      <th>flight_number_reporting_airline</th>\n",
       "    </tr>\n",
       "  </thead>\n",
       "  <tbody>\n",
       "    <tr>\n",
       "      <th>0</th>\n",
       "      <td>2020-08-01</td>\n",
       "      <td>N582CA</td>\n",
       "      <td>CAE</td>\n",
       "      <td>Columbia, SC</td>\n",
       "      <td>South Carolina</td>\n",
       "      <td>ATL</td>\n",
       "      <td>Atlanta, GA</td>\n",
       "      <td>Georgia</td>\n",
       "      <td>753</td>\n",
       "      <td>749.0</td>\n",
       "      <td>...</td>\n",
       "      <td>60.0</td>\n",
       "      <td>37.0</td>\n",
       "      <td>192.0</td>\n",
       "      <td>NaN</td>\n",
       "      <td>NaN</td>\n",
       "      <td>NaN</td>\n",
       "      <td>NaN</td>\n",
       "      <td>NaN</td>\n",
       "      <td>9E</td>\n",
       "      <td>4628</td>\n",
       "    </tr>\n",
       "    <tr>\n",
       "      <th>1</th>\n",
       "      <td>2020-08-01</td>\n",
       "      <td>N915XJ</td>\n",
       "      <td>DTW</td>\n",
       "      <td>Detroit, MI</td>\n",
       "      <td>Michigan</td>\n",
       "      <td>DSM</td>\n",
       "      <td>Des Moines, IA</td>\n",
       "      <td>Iowa</td>\n",
       "      <td>1424</td>\n",
       "      <td>1433.0</td>\n",
       "      <td>...</td>\n",
       "      <td>93.0</td>\n",
       "      <td>76.0</td>\n",
       "      <td>534.0</td>\n",
       "      <td>NaN</td>\n",
       "      <td>NaN</td>\n",
       "      <td>NaN</td>\n",
       "      <td>NaN</td>\n",
       "      <td>NaN</td>\n",
       "      <td>9E</td>\n",
       "      <td>4629</td>\n",
       "    </tr>\n",
       "    <tr>\n",
       "      <th>2</th>\n",
       "      <td>2020-08-02</td>\n",
       "      <td>N314PQ</td>\n",
       "      <td>DTW</td>\n",
       "      <td>Detroit, MI</td>\n",
       "      <td>Michigan</td>\n",
       "      <td>DSM</td>\n",
       "      <td>Des Moines, IA</td>\n",
       "      <td>Iowa</td>\n",
       "      <td>1424</td>\n",
       "      <td>1500.0</td>\n",
       "      <td>...</td>\n",
       "      <td>101.0</td>\n",
       "      <td>80.0</td>\n",
       "      <td>534.0</td>\n",
       "      <td>31.0</td>\n",
       "      <td>0.0</td>\n",
       "      <td>0.0</td>\n",
       "      <td>0.0</td>\n",
       "      <td>0.0</td>\n",
       "      <td>9E</td>\n",
       "      <td>4629</td>\n",
       "    </tr>\n",
       "    <tr>\n",
       "      <th>3</th>\n",
       "      <td>2020-08-03</td>\n",
       "      <td>N335PQ</td>\n",
       "      <td>DTW</td>\n",
       "      <td>Detroit, MI</td>\n",
       "      <td>Michigan</td>\n",
       "      <td>DSM</td>\n",
       "      <td>Des Moines, IA</td>\n",
       "      <td>Iowa</td>\n",
       "      <td>1424</td>\n",
       "      <td>1419.0</td>\n",
       "      <td>...</td>\n",
       "      <td>113.0</td>\n",
       "      <td>79.0</td>\n",
       "      <td>534.0</td>\n",
       "      <td>NaN</td>\n",
       "      <td>NaN</td>\n",
       "      <td>NaN</td>\n",
       "      <td>NaN</td>\n",
       "      <td>NaN</td>\n",
       "      <td>9E</td>\n",
       "      <td>4629</td>\n",
       "    </tr>\n",
       "    <tr>\n",
       "      <th>4</th>\n",
       "      <td>2020-08-04</td>\n",
       "      <td>N319PQ</td>\n",
       "      <td>DTW</td>\n",
       "      <td>Detroit, MI</td>\n",
       "      <td>Michigan</td>\n",
       "      <td>DSM</td>\n",
       "      <td>Des Moines, IA</td>\n",
       "      <td>Iowa</td>\n",
       "      <td>1424</td>\n",
       "      <td>1417.0</td>\n",
       "      <td>...</td>\n",
       "      <td>85.0</td>\n",
       "      <td>72.0</td>\n",
       "      <td>534.0</td>\n",
       "      <td>NaN</td>\n",
       "      <td>NaN</td>\n",
       "      <td>NaN</td>\n",
       "      <td>NaN</td>\n",
       "      <td>NaN</td>\n",
       "      <td>9E</td>\n",
       "      <td>4629</td>\n",
       "    </tr>\n",
       "  </tbody>\n",
       "</table>\n",
       "<p>5 rows × 27 columns</p>\n",
       "</div>"
      ],
      "text/plain": [
       "   flightdate tail_number origin origincityname originstatename dest  \\\n",
       "0  2020-08-01      N582CA    CAE   Columbia, SC  South Carolina  ATL   \n",
       "1  2020-08-01      N915XJ    DTW    Detroit, MI        Michigan  DSM   \n",
       "2  2020-08-02      N314PQ    DTW    Detroit, MI        Michigan  DSM   \n",
       "3  2020-08-03      N335PQ    DTW    Detroit, MI        Michigan  DSM   \n",
       "4  2020-08-04      N319PQ    DTW    Detroit, MI        Michigan  DSM   \n",
       "\n",
       "     destcityname deststatename  crsdeptime  deptime  ...  actualelapsedtime  \\\n",
       "0     Atlanta, GA       Georgia         753    749.0  ...               60.0   \n",
       "1  Des Moines, IA          Iowa        1424   1433.0  ...               93.0   \n",
       "2  Des Moines, IA          Iowa        1424   1500.0  ...              101.0   \n",
       "3  Des Moines, IA          Iowa        1424   1419.0  ...              113.0   \n",
       "4  Des Moines, IA          Iowa        1424   1417.0  ...               85.0   \n",
       "\n",
       "   airtime  distance  carrierdelay  weatherdelay nasdelay  securitydelay  \\\n",
       "0     37.0     192.0           NaN           NaN      NaN            NaN   \n",
       "1     76.0     534.0           NaN           NaN      NaN            NaN   \n",
       "2     80.0     534.0          31.0           0.0      0.0            0.0   \n",
       "3     79.0     534.0           NaN           NaN      NaN            NaN   \n",
       "4     72.0     534.0           NaN           NaN      NaN            NaN   \n",
       "\n",
       "   lateaircraftdelay  reporting_airline  flight_number_reporting_airline  \n",
       "0                NaN                 9E                             4628  \n",
       "1                NaN                 9E                             4629  \n",
       "2                0.0                 9E                             4629  \n",
       "3                NaN                 9E                             4629  \n",
       "4                NaN                 9E                             4629  \n",
       "\n",
       "[5 rows x 27 columns]"
      ]
     },
     "execution_count": 65,
     "metadata": {},
     "output_type": "execute_result"
    }
   ],
   "source": [
    "wanted_ci_lst =[5,9,14,15,18,23,24,27,29,30,31,40,41,42,47,48,49,51,52,54,56,57,58,59,60,6,10,]\n",
    "\n",
    "#flights_short = flights_clean.iloc(wanted_ci_lst)\n",
    "flights_short = flights_clean.iloc[:,wanted_ci_lst]\n",
    "\n",
    "\n",
    "flights_short.columns = flights_short.columns.str.lower()\n",
    "flights_short.head()"
   ]
  },
  {
   "cell_type": "code",
   "execution_count": 58,
   "metadata": {},
   "outputs": [
    {
     "name": "stdout",
     "output_type": "stream",
     "text": [
      "<class 'pandas.core.frame.DataFrame'>\n",
      "RangeIndex: 376715 entries, 0 to 376714\n",
      "Data columns (total 23 columns):\n",
      " #   Column             Non-Null Count   Dtype  \n",
      "---  ------             --------------   -----  \n",
      " 0   flightdate         376715 non-null  object \n",
      " 1   tail_number        375539 non-null  object \n",
      " 2   origin             376715 non-null  object \n",
      " 3   origincityname     376715 non-null  object \n",
      " 4   originstatename    376715 non-null  object \n",
      " 5   dest               376715 non-null  object \n",
      " 6   destcityname       376715 non-null  object \n",
      " 7   deststatename      376715 non-null  object \n",
      " 8   deptime            372866 non-null  float64\n",
      " 9   depdelay           372865 non-null  float64\n",
      " 10  arrtime            372770 non-null  float64\n",
      " 11  arrdelay           371969 non-null  float64\n",
      " 12  cancelled          376715 non-null  float64\n",
      " 13  cancellationcode   3921 non-null    object \n",
      " 14  diverted           376715 non-null  float64\n",
      " 15  actualelapsedtime  371969 non-null  float64\n",
      " 16  airtime            371969 non-null  float64\n",
      " 17  distance           376715 non-null  float64\n",
      " 18  carrierdelay       28967 non-null   float64\n",
      " 19  weatherdelay       28967 non-null   float64\n",
      " 20  nasdelay           28967 non-null   float64\n",
      " 21  securitydelay      28967 non-null   float64\n",
      " 22  lateaircraftdelay  28967 non-null   float64\n",
      "dtypes: float64(14), object(9)\n",
      "memory usage: 66.1+ MB\n"
     ]
    }
   ],
   "source": [
    "flights_short.info()"
   ]
  },
  {
   "cell_type": "code",
   "execution_count": null,
   "metadata": {},
   "outputs": [],
   "source": []
  },
  {
   "cell_type": "code",
   "execution_count": 67,
   "metadata": {},
   "outputs": [],
   "source": [
    "columns_to_keep = [\n",
    "                'FlightDate',\n",
    "                'DepTime',\n",
    "                'CRSDepTime',\n",
    "                'DepDelay',\n",
    "                'ArrTime',\n",
    "                'CRSArrTime',\n",
    "                'ArrDelay',\n",
    "                'Reporting_Airline',\n",
    "                'Tail_Number',\n",
    "                'Flight_Number_Reporting_Airline',\n",
    "                'Origin',\n",
    "                'Dest',\n",
    "                'AirTime',\n",
    "                'ActualElapsedTime',\n",
    "                'Distance',\n",
    "                'Cancelled',\n",
    "                'Diverted'\n",
    "]"
   ]
  },
  {
   "cell_type": "code",
   "execution_count": 66,
   "metadata": {},
   "outputs": [
    {
     "name": "stderr",
     "output_type": "stream",
     "text": [
      "/var/folders/9j/5rxmqbbd545bhw9vljt6mdp40000gn/T/ipykernel_52682/1257290494.py:9: RemovedIn20Warning: Deprecated API features detected! These feature(s) are not compatible with SQLAlchemy 2.0. To prevent incompatible upgrades prior to updating applications, ensure requirements files are pinned to \"sqlalchemy<2.0\". Set environment variable SQLALCHEMY_WARN_20=1 to show all deprecation warnings.  Set environment variable SQLALCHEMY_SILENCE_UBER_WARNING=1 to silence this message. (Background on SQLAlchemy 2.0 at: https://sqlalche.me/e/b8d9)\n",
      "  c_names = engine.execute(table_name_sql).fetchall()\n"
     ]
    },
    {
     "data": {
      "text/plain": [
       "[('flight_date',),\n",
       " ('dep_time',),\n",
       " ('sched_dep_time',),\n",
       " ('dep_delay',),\n",
       " ('arr_time',),\n",
       " ('sched_arr_time',),\n",
       " ('arr_delay',),\n",
       " ('airline',),\n",
       " ('tail_number',),\n",
       " ('flight_number',),\n",
       " ('origin',),\n",
       " ('dest',),\n",
       " ('air_time',),\n",
       " ('actual_elapsed_time',),\n",
       " ('distance',),\n",
       " ('cancelled',),\n",
       " ('diverted',)]"
      ]
     },
     "execution_count": 66,
     "metadata": {},
     "output_type": "execute_result"
    }
   ],
   "source": [
    "\n",
    "schema = 'hh_analytics_23_4' # UPDATE 'TABLE_SCHEMA' based on schema used in class \n",
    "engine = get_engine() # assign engine to be able to query against the database\n",
    "\n",
    "table_name_sql = f'''SELECT COLUMN_NAME \n",
    "                    FROM INFORMATION_SCHEMA.COLUMNS \n",
    "                    WHERE TABLE_NAME = 'flights'\n",
    "                    AND TABLE_SCHEMA ='{schema}'\n",
    "                    ORDER BY ordinal_position'''\n",
    "c_names = engine.execute(table_name_sql).fetchall()\n",
    "c_names"
   ]
  },
  {
   "cell_type": "code",
   "execution_count": 68,
   "metadata": {},
   "outputs": [
    {
     "data": {
      "text/plain": [
       "['flight_date',\n",
       " 'dep_time',\n",
       " 'sched_dep_time',\n",
       " 'dep_delay',\n",
       " 'arr_time',\n",
       " 'sched_arr_time',\n",
       " 'arr_delay',\n",
       " 'airline',\n",
       " 'tail_number',\n",
       " 'flight_number',\n",
       " 'origin',\n",
       " 'dest',\n",
       " 'air_time',\n",
       " 'actual_elapsed_time',\n",
       " 'distance',\n",
       " 'cancelled',\n",
       " 'diverted']"
      ]
     },
     "execution_count": 68,
     "metadata": {},
     "output_type": "execute_result"
    }
   ],
   "source": [
    "new_column_names=[]\n",
    "for name in c_names:\n",
    "    new_column_names.append(name[0])\n",
    "new_column_names  "
   ]
  },
  {
   "cell_type": "code",
   "execution_count": 69,
   "metadata": {},
   "outputs": [],
   "source": [
    "def clean_airline_df(df):\n",
    "    '''\n",
    "    Transforms a df made from BTS csv file into a df that is ready to be uploaded to SQL\n",
    "    Set rows=0 for no filtering\n",
    "    '''\n",
    "\n",
    "    # Build dataframe including only the columns you want to keep\n",
    "    df_airline = df.loc[:,columns_to_keep]\n",
    "     \n",
    "    # Clean data types and NULLs\n",
    "    df_airline['FlightDate']= pd.to_datetime(df_airline['FlightDate'], yearfirst=True)\n",
    "    df_airline['CRSArrTime']= pd.to_numeric(df_airline['CRSArrTime'], downcast='integer', errors='coerce')\n",
    "    df_airline['Cancelled']= pd.to_numeric(df_airline['Cancelled'], downcast='integer')\n",
    "    df_airline['Diverted']= pd.to_numeric(df_airline['Diverted'], downcast='integer')\n",
    "    df_airline['ActualElapsedTime']= pd.to_numeric(df_airline['ActualElapsedTime'], downcast='integer', errors='coerce')\n",
    "    \n",
    "    # Rename columns\n",
    "    df_airline.columns = new_column_names\n",
    "    \n",
    "    return df_airline"
   ]
  },
  {
   "cell_type": "code",
   "execution_count": 70,
   "metadata": {},
   "outputs": [
    {
     "data": {
      "text/html": [
       "<div>\n",
       "<style scoped>\n",
       "    .dataframe tbody tr th:only-of-type {\n",
       "        vertical-align: middle;\n",
       "    }\n",
       "\n",
       "    .dataframe tbody tr th {\n",
       "        vertical-align: top;\n",
       "    }\n",
       "\n",
       "    .dataframe thead th {\n",
       "        text-align: right;\n",
       "    }\n",
       "</style>\n",
       "<table border=\"1\" class=\"dataframe\">\n",
       "  <thead>\n",
       "    <tr style=\"text-align: right;\">\n",
       "      <th></th>\n",
       "      <th>flight_date</th>\n",
       "      <th>dep_time</th>\n",
       "      <th>sched_dep_time</th>\n",
       "      <th>dep_delay</th>\n",
       "      <th>arr_time</th>\n",
       "      <th>sched_arr_time</th>\n",
       "      <th>arr_delay</th>\n",
       "      <th>airline</th>\n",
       "      <th>tail_number</th>\n",
       "      <th>flight_number</th>\n",
       "      <th>origin</th>\n",
       "      <th>dest</th>\n",
       "      <th>air_time</th>\n",
       "      <th>actual_elapsed_time</th>\n",
       "      <th>distance</th>\n",
       "      <th>cancelled</th>\n",
       "      <th>diverted</th>\n",
       "    </tr>\n",
       "  </thead>\n",
       "  <tbody>\n",
       "    <tr>\n",
       "      <th>0</th>\n",
       "      <td>2020-08-01</td>\n",
       "      <td>749.0</td>\n",
       "      <td>753</td>\n",
       "      <td>-4.0</td>\n",
       "      <td>849.0</td>\n",
       "      <td>905</td>\n",
       "      <td>-16.0</td>\n",
       "      <td>9E</td>\n",
       "      <td>N582CA</td>\n",
       "      <td>4628</td>\n",
       "      <td>CAE</td>\n",
       "      <td>ATL</td>\n",
       "      <td>37.0</td>\n",
       "      <td>60.0</td>\n",
       "      <td>192.0</td>\n",
       "      <td>0</td>\n",
       "      <td>0</td>\n",
       "    </tr>\n",
       "    <tr>\n",
       "      <th>1</th>\n",
       "      <td>2020-08-01</td>\n",
       "      <td>1433.0</td>\n",
       "      <td>1424</td>\n",
       "      <td>9.0</td>\n",
       "      <td>1506.0</td>\n",
       "      <td>1510</td>\n",
       "      <td>-4.0</td>\n",
       "      <td>9E</td>\n",
       "      <td>N915XJ</td>\n",
       "      <td>4629</td>\n",
       "      <td>DTW</td>\n",
       "      <td>DSM</td>\n",
       "      <td>76.0</td>\n",
       "      <td>93.0</td>\n",
       "      <td>534.0</td>\n",
       "      <td>0</td>\n",
       "      <td>0</td>\n",
       "    </tr>\n",
       "    <tr>\n",
       "      <th>2</th>\n",
       "      <td>2020-08-02</td>\n",
       "      <td>1500.0</td>\n",
       "      <td>1424</td>\n",
       "      <td>36.0</td>\n",
       "      <td>1541.0</td>\n",
       "      <td>1510</td>\n",
       "      <td>31.0</td>\n",
       "      <td>9E</td>\n",
       "      <td>N314PQ</td>\n",
       "      <td>4629</td>\n",
       "      <td>DTW</td>\n",
       "      <td>DSM</td>\n",
       "      <td>80.0</td>\n",
       "      <td>101.0</td>\n",
       "      <td>534.0</td>\n",
       "      <td>0</td>\n",
       "      <td>0</td>\n",
       "    </tr>\n",
       "    <tr>\n",
       "      <th>3</th>\n",
       "      <td>2020-08-03</td>\n",
       "      <td>1419.0</td>\n",
       "      <td>1424</td>\n",
       "      <td>-5.0</td>\n",
       "      <td>1512.0</td>\n",
       "      <td>1510</td>\n",
       "      <td>2.0</td>\n",
       "      <td>9E</td>\n",
       "      <td>N335PQ</td>\n",
       "      <td>4629</td>\n",
       "      <td>DTW</td>\n",
       "      <td>DSM</td>\n",
       "      <td>79.0</td>\n",
       "      <td>113.0</td>\n",
       "      <td>534.0</td>\n",
       "      <td>0</td>\n",
       "      <td>0</td>\n",
       "    </tr>\n",
       "    <tr>\n",
       "      <th>4</th>\n",
       "      <td>2020-08-04</td>\n",
       "      <td>1417.0</td>\n",
       "      <td>1424</td>\n",
       "      <td>-7.0</td>\n",
       "      <td>1442.0</td>\n",
       "      <td>1510</td>\n",
       "      <td>-28.0</td>\n",
       "      <td>9E</td>\n",
       "      <td>N319PQ</td>\n",
       "      <td>4629</td>\n",
       "      <td>DTW</td>\n",
       "      <td>DSM</td>\n",
       "      <td>72.0</td>\n",
       "      <td>85.0</td>\n",
       "      <td>534.0</td>\n",
       "      <td>0</td>\n",
       "      <td>0</td>\n",
       "    </tr>\n",
       "  </tbody>\n",
       "</table>\n",
       "</div>"
      ],
      "text/plain": [
       "  flight_date  dep_time  sched_dep_time  dep_delay  arr_time  sched_arr_time  \\\n",
       "0  2020-08-01     749.0             753       -4.0     849.0             905   \n",
       "1  2020-08-01    1433.0            1424        9.0    1506.0            1510   \n",
       "2  2020-08-02    1500.0            1424       36.0    1541.0            1510   \n",
       "3  2020-08-03    1419.0            1424       -5.0    1512.0            1510   \n",
       "4  2020-08-04    1417.0            1424       -7.0    1442.0            1510   \n",
       "\n",
       "   arr_delay airline tail_number  flight_number origin dest  air_time  \\\n",
       "0      -16.0      9E      N582CA           4628    CAE  ATL      37.0   \n",
       "1       -4.0      9E      N915XJ           4629    DTW  DSM      76.0   \n",
       "2       31.0      9E      N314PQ           4629    DTW  DSM      80.0   \n",
       "3        2.0      9E      N335PQ           4629    DTW  DSM      79.0   \n",
       "4      -28.0      9E      N319PQ           4629    DTW  DSM      72.0   \n",
       "\n",
       "   actual_elapsed_time  distance  cancelled  diverted  \n",
       "0                 60.0     192.0          0         0  \n",
       "1                 93.0     534.0          0         0  \n",
       "2                101.0     534.0          0         0  \n",
       "3                113.0     534.0          0         0  \n",
       "4                 85.0     534.0          0         0  "
      ]
     },
     "execution_count": 70,
     "metadata": {},
     "output_type": "execute_result"
    }
   ],
   "source": [
    "# Call function and check resulting dataframe\n",
    "df_clean = clean_airline_df(flights)\n",
    "df_clean.head()"
   ]
  },
  {
   "cell_type": "code",
   "execution_count": 84,
   "metadata": {},
   "outputs": [
    {
     "name": "stdout",
     "output_type": "stream",
     "text": [
      "<class 'pandas.core.frame.DataFrame'>\n",
      "RangeIndex: 376715 entries, 0 to 376714\n",
      "Data columns (total 22 columns):\n",
      " #   Column               Non-Null Count   Dtype         \n",
      "---  ------               --------------   -----         \n",
      " 0   flight_date          376715 non-null  datetime64[ns]\n",
      " 1   dep_time             372866 non-null  float64       \n",
      " 2   sched_dep_time       376715 non-null  int64         \n",
      " 3   dep_delay            372865 non-null  float64       \n",
      " 4   arr_time             372770 non-null  float64       \n",
      " 5   sched_arr_time       376715 non-null  int16         \n",
      " 6   arr_delay            371969 non-null  float64       \n",
      " 7   airline              376715 non-null  object        \n",
      " 8   tail_number          375539 non-null  object        \n",
      " 9   flight_number        376715 non-null  int64         \n",
      " 10  origin               376715 non-null  object        \n",
      " 11  dest                 376715 non-null  object        \n",
      " 12  air_time             371969 non-null  float64       \n",
      " 13  actual_elapsed_time  371969 non-null  float64       \n",
      " 14  distance             376715 non-null  float64       \n",
      " 15  cancelled            376715 non-null  int8          \n",
      " 16  diverted             376715 non-null  int8          \n",
      " 17  carrier_delay        28967 non-null   float64       \n",
      " 18  weather_delay        28967 non-null   float64       \n",
      " 19  nas_delay            28967 non-null   float64       \n",
      " 20  security_delay       28967 non-null   float64       \n",
      " 21  lateaircraft_delay   28967 non-null   float64       \n",
      "dtypes: datetime64[ns](1), float64(12), int16(1), int64(2), int8(2), object(4)\n",
      "memory usage: 56.0+ MB\n"
     ]
    }
   ],
   "source": [
    "flights_ex = df_clean.copy()\n",
    "flights_ex[['carrier_delay','weather_delay','nas_delay','security_delay','lateaircraft_delay']] = flights.iloc[:,[56,57,58,59,60]]\n",
    "flights_ex.info()"
   ]
  },
  {
   "cell_type": "code",
   "execution_count": 79,
   "metadata": {},
   "outputs": [],
   "source": [
    "def select_airport(df, airports):\n",
    "    ''' Helper function for filtering the airline dataframe for a subset of airports'''\n",
    "    df_out = df.loc[(df.origin.isin(airports)) | (df.dest.isin(airports))]\n",
    "    return df_out"
   ]
  },
  {
   "cell_type": "code",
   "execution_count": 83,
   "metadata": {},
   "outputs": [
    {
     "name": "stdout",
     "output_type": "stream",
     "text": [
      "<class 'pandas.core.frame.DataFrame'>\n",
      "Index: 62568 entries, 1 to 376618\n",
      "Data columns (total 22 columns):\n",
      " #   Column               Non-Null Count  Dtype         \n",
      "---  ------               --------------  -----         \n",
      " 0   flight_date          62568 non-null  datetime64[ns]\n",
      " 1   dep_time             62067 non-null  float64       \n",
      " 2   sched_dep_time       62568 non-null  int64         \n",
      " 3   dep_delay            62067 non-null  float64       \n",
      " 4   arr_time             62056 non-null  float64       \n",
      " 5   sched_arr_time       62568 non-null  int16         \n",
      " 6   arr_delay            61941 non-null  float64       \n",
      " 7   airline              62568 non-null  object        \n",
      " 8   tail_number          62455 non-null  object        \n",
      " 9   flight_number        62568 non-null  int64         \n",
      " 10  origin               62568 non-null  object        \n",
      " 11  dest                 62568 non-null  object        \n",
      " 12  air_time             61941 non-null  float64       \n",
      " 13  actual_elapsed_time  61941 non-null  float64       \n",
      " 14  distance             62568 non-null  float64       \n",
      " 15  cancelled            62568 non-null  int8          \n",
      " 16  diverted             62568 non-null  int8          \n",
      " 17  carrier_delay        3833 non-null   float64       \n",
      " 18  weather_delay        3833 non-null   float64       \n",
      " 19  nas_delay            3833 non-null   float64       \n",
      " 20  security_delay       3833 non-null   float64       \n",
      " 21  lateaircraft_delay   3833 non-null   float64       \n",
      "dtypes: datetime64[ns](1), float64(12), int16(1), int64(2), int8(2), object(4)\n",
      "memory usage: 9.8+ MB\n"
     ]
    }
   ],
   "source": [
    "airports=['MKE', 'ORD','MDW', 'IND', 'OMA', 'DSM', 'STL']\n",
    "if len(airports) > 0:\n",
    "    flights_MW_group04 = select_airport(flights_ex, airports)\n",
    "else:\n",
    "    flights_MW_group04 = df_clean\n",
    "    \n",
    "flights_MW_group04.info()"
   ]
  },
  {
   "cell_type": "code",
   "execution_count": 85,
   "metadata": {},
   "outputs": [
    {
     "name": "stdout",
     "output_type": "stream",
     "text": [
      "The flights_MW_group04 table was imported successfully.\n"
     ]
    }
   ],
   "source": [
    "# Specify which table within your database you want to push your data to. Give your table an unambiguous name.\n",
    "# Example: flights_sp for Sina's flights table, flights_groupname or similar\n",
    "table_name = 'flights_MW_group04'\n",
    "# If the specified table doesn't exist yet, it will be created\n",
    "# With 'replace', your data will be replaced if the table already exists.\n",
    "# This may take some time ...\n",
    "\n",
    "# Write records stored in a dataframe to SQL database\n",
    "if engine!=None:\n",
    "    try:\n",
    "        flights_MW_group04.to_sql(name=table_name, # Name of SQL table\n",
    "                        con=engine, # Engine or connection\n",
    "                        if_exists='replace', # Drop the table before inserting new values \n",
    "                        schema=schema, # Use schmea that was defined earlier\n",
    "                        index=False, # Write DataFrame index as a column\n",
    "                        chunksize=5000, # Specify the number of rows in each batch to be written at a time\n",
    "                        method='multi') # Pass multiple values in a single INSERT clause\n",
    "        print(f\"The {table_name} table was imported successfully.\")\n",
    "    # Error handling\n",
    "    except (Exception, psycopg2.DatabaseError) as error:\n",
    "        print(error)\n",
    "        engine = None"
   ]
  }
 ],
 "metadata": {
  "kernelspec": {
   "display_name": "nf_sql",
   "language": "python",
   "name": "python3"
  },
  "language_info": {
   "codemirror_mode": {
    "name": "ipython",
    "version": 3
   },
   "file_extension": ".py",
   "mimetype": "text/x-python",
   "name": "python",
   "nbconvert_exporter": "python",
   "pygments_lexer": "ipython3",
   "version": "3.9.7"
  }
 },
 "nbformat": 4,
 "nbformat_minor": 2
}
